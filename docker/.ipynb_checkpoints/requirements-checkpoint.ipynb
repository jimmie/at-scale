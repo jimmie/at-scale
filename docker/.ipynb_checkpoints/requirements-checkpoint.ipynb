{
 "cells": [
  {
   "cell_type": "markdown",
   "id": "scientific-spread",
   "metadata": {},
   "source": [
    "## Installing requirements using the yum package manager"
   ]
  },
  {
   "cell_type": "markdown",
   "id": "solar-prefix",
   "metadata": {},
   "source": [
    "The following cell shows an example of installing requirements/dependencies using the yum package manager. Modify it according to your requirements. If you have no requirements that need to be installed via yum, it can be ignored."
   ]
  },
  {
   "cell_type": "code",
   "execution_count": null,
   "id": "alleged-remedy",
   "metadata": {},
   "outputs": [],
   "source": [
    "%%bash\n",
    "#sudo yum install epel-release -y\n",
    "#sudo yum install <package> -y\n",
    "sudo yum install curl -y"
   ]
  },
  {
   "cell_type": "markdown",
   "id": "tropical-updating",
   "metadata": {},
   "source": [
    "## Installing requirements using the conda package manager"
   ]
  },
  {
   "cell_type": "markdown",
   "id": "royal-investing",
   "metadata": {},
   "source": [
    "The following cell shows an example of installing requirements/dependencies using the conda package manager. Modify it according to your requirements. If you have no requirements that need to be installed via conda, it can be ignored."
   ]
  },
  {
   "cell_type": "code",
   "execution_count": null,
   "id": "divided-single",
   "metadata": {},
   "outputs": [],
   "source": [
    "%%bash\n",
    "#sudo conda install <package> -y\n"
   ]
  },
  {
   "cell_type": "markdown",
   "id": "advised-terrorism",
   "metadata": {},
   "source": [
    "## Installing requirements using pip"
   ]
  },
  {
   "cell_type": "markdown",
   "id": "democratic-match",
   "metadata": {},
   "source": [
    "The following cell shows an example of installing requirements/dependencies using the pip package manager. Modify it according to your requirements. If you have no requirements that need to be installed via pip, it can be ignored."
   ]
  },
  {
   "cell_type": "code",
   "execution_count": null,
   "id": "closing-subdivision",
   "metadata": {},
   "outputs": [],
   "source": [
    "%%bash\n",
    "#sudo pip install <package>"
   ]
  }
 ],
 "metadata": {
  "kernelspec": {
   "display_name": "Python 3 (ipykernel)",
   "language": "python",
   "name": "python3"
  },
  "language_info": {
   "codemirror_mode": {
    "name": "ipython",
    "version": 3
   },
   "file_extension": ".py",
   "mimetype": "text/x-python",
   "name": "python",
   "nbconvert_exporter": "python",
   "pygments_lexer": "ipython3",
   "version": "3.9.12"
  }
 },
 "nbformat": 4,
 "nbformat_minor": 5
}
